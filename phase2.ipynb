{
 "cells": [
  {
   "cell_type": "markdown",
   "id": "7f8936ac",
   "metadata": {},
   "source": [
    "## Numpy array operations"
   ]
  },
  {
   "cell_type": "code",
   "execution_count": 1,
   "id": "8a0605cd",
   "metadata": {},
   "outputs": [],
   "source": [
    "import numpy as np\n"
   ]
  },
  {
   "cell_type": "code",
   "execution_count": 5,
   "id": "cdea842f",
   "metadata": {},
   "outputs": [
    {
     "name": "stdout",
     "output_type": "stream",
     "text": [
      "Basic Slicling [2 3 4 5 6]\n",
      "Basic Slicling with step [2 4 6]\n",
      "Negative Slicing 9\n"
     ]
    }
   ],
   "source": [
    "arr = np.arange(0,11)\n",
    "print(\"Basic Slicling\", arr[2:7])\n",
    "print(\"Basic Slicling with step\", arr[2:8:2])\n",
    "print(\"Negative Slicing\", arr[-2])"
   ]
  },
  {
   "cell_type": "code",
   "execution_count": 8,
   "id": "e374c475",
   "metadata": {},
   "outputs": [
    {
     "name": "stdout",
     "output_type": "stream",
     "text": [
      "Specific Element 6\n",
      "Entire row :  [4 5 6]\n",
      "Entire column :  [1 4 7]\n"
     ]
    }
   ],
   "source": [
    "arr_2d = np.array([[1,2,3],\n",
    "                   [4,5,6],\n",
    "                   [7,8,9]])\n",
    "\n",
    "print(\"Specific Element\", arr_2d[1,2]) #1st row ka 2nd element with index start with 0\n",
    "print(\"Entire row : \", arr_2d[1])\n",
    "print(\"Entire column : \", arr_2d[:,0])"
   ]
  },
  {
   "cell_type": "markdown",
   "id": "3cfdf007",
   "metadata": {},
   "source": [
    "### Sorting in arrays"
   ]
  },
  {
   "cell_type": "code",
   "execution_count": 13,
   "id": "7ff5177e",
   "metadata": {},
   "outputs": [
    {
     "name": "stdout",
     "output_type": "stream",
     "text": [
      "Sorted Array:  [1 2 3 4 5 6 7 9]\n",
      "Sorted 2D array by coloum  [[1 1]\n",
      " [2 2]\n",
      " [3 3]]\n",
      "Sorted 2D array by row  [[1 3]\n",
      " [1 2]\n",
      " [2 3]]\n"
     ]
    }
   ],
   "source": [
    "unsorted = np.array([1,3,5,7,9,2,4,6])\n",
    "print(\"Sorted Array: \", np.sort(unsorted))\n",
    "\n",
    "arr_2d_unsorted = np.array([[3,1],[1,2],[2,3]])\n",
    "print(\"Sorted 2D array by coloum \", np.sort(arr_2d_unsorted, axis=0))\n",
    "print(\"Sorted 2D array by row \", np.sort(arr_2d_unsorted, axis=1))"
   ]
  },
  {
   "cell_type": "markdown",
   "id": "b7bee8ae",
   "metadata": {},
   "source": [
    "### Filter"
   ]
  },
  {
   "cell_type": "code",
   "execution_count": null,
   "id": "7d9816af",
   "metadata": {},
   "outputs": [
    {
     "name": "stdout",
     "output_type": "stream",
     "text": [
      "[ 2  4  6  8 10]\n"
     ]
    }
   ],
   "source": [
    "numbers = np.array([1,2,3,4,5,6,7,8,9,10])\n",
    "even_number = numbers[numbers % 2 == 0]\n",
    "print(even_number)"
   ]
  },
  {
   "cell_type": "markdown",
   "id": "f2ba76ce",
   "metadata": {},
   "source": [
    "### Filter with mask"
   ]
  },
  {
   "cell_type": "code",
   "execution_count": 15,
   "id": "835342de",
   "metadata": {},
   "outputs": [
    {
     "name": "stdout",
     "output_type": "stream",
     "text": [
      "Numbers > 5 are : [ 6  7  8  9 10]\n"
     ]
    }
   ],
   "source": [
    "mask = numbers > 5\n",
    "print(\"Numbers > 5 are :\", numbers[mask])"
   ]
  },
  {
   "cell_type": "markdown",
   "id": "9252c0c4",
   "metadata": {},
   "source": [
    "### Fancy Indexing vs np.where"
   ]
  },
  {
   "cell_type": "code",
   "execution_count": 19,
   "id": "d23be109",
   "metadata": {},
   "outputs": [
    {
     "name": "stdout",
     "output_type": "stream",
     "text": [
      "[1 3 5]\n",
      "(array([5, 6, 7, 8, 9]),)\n",
      "WHERE [ 6  7  8  9 10]\n"
     ]
    }
   ],
   "source": [
    "indices = [0,2,4]\n",
    "print(numbers[indices])\n",
    "\n",
    "where_result = np.where(numbers>5)\n",
    "print(where_result)\n",
    "print(\"WHERE\", numbers[where_result])"
   ]
  },
  {
   "cell_type": "code",
   "execution_count": 21,
   "id": "d1ceb0f0",
   "metadata": {},
   "outputs": [
    {
     "name": "stdout",
     "output_type": "stream",
     "text": [
      "[ 1  2  3  4  5 12 14 16 18 20]\n"
     ]
    }
   ],
   "source": [
    "condition_array = np.where(numbers>5, numbers*2, numbers)\n",
    "print(condition_array)"
   ]
  },
  {
   "cell_type": "markdown",
   "id": "9e1df87b",
   "metadata": {},
   "source": [
    "### Adding and Removing data"
   ]
  },
  {
   "cell_type": "code",
   "execution_count": 23,
   "id": "f03ff813",
   "metadata": {},
   "outputs": [
    {
     "name": "stdout",
     "output_type": "stream",
     "text": [
      "[1 2 3 4 5 6]\n"
     ]
    }
   ],
   "source": [
    "arr1 = np.array([1,2,3])\n",
    "arr2 = np.array([4,5,6])\n",
    "\n",
    "combined = np.concatenate((arr1,arr2))\n",
    "print(combined)"
   ]
  },
  {
   "cell_type": "markdown",
   "id": "34400009",
   "metadata": {},
   "source": [
    "#### Array Compatibility"
   ]
  },
  {
   "cell_type": "code",
   "execution_count": 25,
   "id": "afb2f421",
   "metadata": {},
   "outputs": [
    {
     "name": "stdout",
     "output_type": "stream",
     "text": [
      "Compalitibility Shapes False\n"
     ]
    }
   ],
   "source": [
    "a = np.array([1,2,3])\n",
    "b = np.array([4,5,6,7])\n",
    "c = np.array([7,8,9])\n",
    "\n",
    "print(\"Compalitibility Shapes\", a.shape == b.shape)"
   ]
  },
  {
   "cell_type": "markdown",
   "id": "df5acad5",
   "metadata": {},
   "source": [
    "##### For additing row "
   ]
  },
  {
   "cell_type": "code",
   "execution_count": null,
   "id": "b4ab8502",
   "metadata": {},
   "outputs": [
    {
     "name": "stdout",
     "output_type": "stream",
     "text": [
      "[[1 2]\n",
      " [3 4]]\n",
      "[[1 2]\n",
      " [3 4]\n",
      " [5 6]]\n"
     ]
    }
   ],
   "source": [
    "original = np.array([[1,2], [3,4]])\n",
    "new_row = np.array([[5,6]])\n",
    "\n",
    "with_new_row = np.vstack((original, new_row)) #vstack hamesha hi row add krta hai\n",
    "print(original)\n",
    "print(with_new_row)\n"
   ]
  },
  {
   "cell_type": "markdown",
   "id": "333fe545",
   "metadata": {},
   "source": [
    "##### For additing coloum"
   ]
  },
  {
   "cell_type": "code",
   "execution_count": 28,
   "id": "70b48b8a",
   "metadata": {},
   "outputs": [
    {
     "name": "stdout",
     "output_type": "stream",
     "text": [
      "[[1 2]\n",
      " [3 4]]\n",
      "[[1 2 7]\n",
      " [3 4 8]]\n"
     ]
    }
   ],
   "source": [
    "new_col = np.array([[7], [8]])\n",
    "with_new_col = np.hstack((original, new_col))\n",
    "print(original)\n",
    "print(with_new_col)"
   ]
  },
  {
   "cell_type": "markdown",
   "id": "b1b75181",
   "metadata": {},
   "source": [
    "#### Deleting"
   ]
  },
  {
   "cell_type": "code",
   "execution_count": 31,
   "id": "604d557a",
   "metadata": {},
   "outputs": [
    {
     "name": "stdout",
     "output_type": "stream",
     "text": [
      "Array after deletion  [1 2 4 5]\n"
     ]
    }
   ],
   "source": [
    "arr = np.array([1,2,3,4,5])\n",
    "deleted = np.delete(arr, 2)\n",
    "print(\"Array after deletion \", deleted)"
   ]
  },
  {
   "cell_type": "code",
   "execution_count": null,
   "id": "395cfa08",
   "metadata": {},
   "outputs": [],
   "source": []
  }
 ],
 "metadata": {
  "kernelspec": {
   "display_name": "venv",
   "language": "python",
   "name": "python3"
  },
  "language_info": {
   "codemirror_mode": {
    "name": "ipython",
    "version": 3
   },
   "file_extension": ".py",
   "mimetype": "text/x-python",
   "name": "python",
   "nbconvert_exporter": "python",
   "pygments_lexer": "ipython3",
   "version": "3.13.4"
  }
 },
 "nbformat": 4,
 "nbformat_minor": 5
}
