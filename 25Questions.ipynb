{
 "cells": [
  {
   "cell_type": "code",
   "execution_count": 1,
   "id": "6ac90659",
   "metadata": {},
   "outputs": [],
   "source": [
    "import numpy as np"
   ]
  },
  {
   "cell_type": "markdown",
   "id": "8316aa82",
   "metadata": {},
   "source": [
    "### 25 Questions of numpy"
   ]
  },
  {
   "cell_type": "markdown",
   "id": "21d1d6b6",
   "metadata": {},
   "source": [
    "Part A: Basic Array Manipulation (Q1–Q10)"
   ]
  },
  {
   "cell_type": "markdown",
   "id": "fb10f318",
   "metadata": {},
   "source": [
    "1. Create a NumPy array of 10 zeros"
   ]
  },
  {
   "cell_type": "code",
   "execution_count": 3,
   "id": "45c5b643",
   "metadata": {},
   "outputs": [
    {
     "name": "stdout",
     "output_type": "stream",
     "text": [
      "[0. 0. 0. 0. 0. 0. 0. 0. 0. 0.]\n"
     ]
    }
   ],
   "source": [
    "z = np.zeros(10)\n",
    "print(z)"
   ]
  },
  {
   "cell_type": "markdown",
   "id": "e28fa41d",
   "metadata": {},
   "source": [
    "2. Create a NumPy array of 10 ones"
   ]
  },
  {
   "cell_type": "code",
   "execution_count": 4,
   "id": "55bcf028",
   "metadata": {},
   "outputs": [
    {
     "name": "stdout",
     "output_type": "stream",
     "text": [
      "[1. 1. 1. 1. 1. 1. 1. 1. 1. 1.]\n"
     ]
    }
   ],
   "source": [
    "o = np.ones(10)\n",
    "print(o)"
   ]
  },
  {
   "cell_type": "markdown",
   "id": "64d2575a",
   "metadata": {},
   "source": [
    "3. Create an array of integers from 10 to 49"
   ]
  },
  {
   "cell_type": "code",
   "execution_count": 5,
   "id": "5b5b15e7",
   "metadata": {},
   "outputs": [
    {
     "name": "stdout",
     "output_type": "stream",
     "text": [
      "[10 11 12 13 14 15 16 17 18 19 20 21 22 23 24 25 26 27 28 29 30 31 32 33\n",
      " 34 35 36 37 38 39 40 41 42 43 44 45 46 47 48 49]\n"
     ]
    }
   ],
   "source": [
    "i = np.arange(10,50)\n",
    "print(i)"
   ]
  },
  {
   "cell_type": "markdown",
   "id": "3ec98727",
   "metadata": {},
   "source": [
    "4. Reverse the array\n",
    "\n"
   ]
  },
  {
   "cell_type": "code",
   "execution_count": 6,
   "id": "58021ad3",
   "metadata": {},
   "outputs": [
    {
     "name": "stdout",
     "output_type": "stream",
     "text": [
      "[1 2 3 4 5 6 7]\n"
     ]
    }
   ],
   "source": [
    "a = np.array([7,6,5,4,3,2,1])\n",
    "print(a[::-1])"
   ]
  },
  {
   "cell_type": "markdown",
   "id": "8dd040cb",
   "metadata": {},
   "source": [
    "5. Reshape an array of 9 elements into 3x3\n",
    "\n"
   ]
  },
  {
   "cell_type": "code",
   "execution_count": 7,
   "id": "2f01cd86",
   "metadata": {},
   "outputs": [
    {
     "name": "stdout",
     "output_type": "stream",
     "text": [
      "[0 1 2 3 4 5 6 7 8]\n",
      "[[0 1 2]\n",
      " [3 4 5]\n",
      " [6 7 8]]\n"
     ]
    }
   ],
   "source": [
    "re = np.arange(9)\n",
    "print(re)\n",
    "re = re.reshape(3,3)\n",
    "print(re)"
   ]
  },
  {
   "cell_type": "markdown",
   "id": "43771041",
   "metadata": {},
   "source": [
    "6. Create a 3x3 identity matrix"
   ]
  },
  {
   "cell_type": "code",
   "execution_count": 9,
   "id": "9ce66e5a",
   "metadata": {},
   "outputs": [
    {
     "name": "stdout",
     "output_type": "stream",
     "text": [
      "[['i' 'i' 'i']\n",
      " ['i' 'i' 'i']\n",
      " ['i' 'i' 'i']]\n"
     ]
    }
   ],
   "source": [
    "iden = np.full((3,3),'i')\n",
    "print(iden)"
   ]
  },
  {
   "cell_type": "markdown",
   "id": "d6fb7576",
   "metadata": {},
   "source": [
    "7. Create an array of 10 random integers from 0–100"
   ]
  },
  {
   "cell_type": "code",
   "execution_count": 11,
   "id": "cb951025",
   "metadata": {},
   "outputs": [
    {
     "name": "stdout",
     "output_type": "stream",
     "text": [
      "[74 86 59  8 52 42 51 23 37 52]\n"
     ]
    }
   ],
   "source": [
    "ran = np.random.randint(0,100, size=10)\n",
    "print(ran)"
   ]
  },
  {
   "cell_type": "markdown",
   "id": "98b43083",
   "metadata": {},
   "source": [
    "8. Find the maximum, minimum, mean of that array"
   ]
  },
  {
   "cell_type": "code",
   "execution_count": 12,
   "id": "e59f54b0",
   "metadata": {},
   "outputs": [
    {
     "name": "stdout",
     "output_type": "stream",
     "text": [
      "Max is : 9\n",
      "Min is : 1\n",
      "Mean is : 4.75\n"
     ]
    }
   ],
   "source": [
    "arr = np.array([1,2,4,4,6,5,7,9])\n",
    "print(\"Max is :\", np.max(arr))\n",
    "print(\"Min is :\", np.min(arr))\n",
    "print(\"Mean is :\", np.mean(arr))"
   ]
  },
  {
   "cell_type": "markdown",
   "id": "3e48c478",
   "metadata": {},
   "source": [
    "9. Replace all odd numbers with -1"
   ]
  },
  {
   "cell_type": "code",
   "execution_count": 18,
   "id": "5f61299c",
   "metadata": {},
   "outputs": [
    {
     "name": "stdout",
     "output_type": "stream",
     "text": [
      "[-1  2  4  4  6 -1 -1 -1]\n"
     ]
    }
   ],
   "source": [
    "arr = np.array([1,2,4,4,6,5,7,9]) #fancy indexong and slicing\n",
    "arr[arr % 2 == 1] = -1\n",
    "print(arr)"
   ]
  },
  {
   "cell_type": "markdown",
   "id": "710ab787",
   "metadata": {},
   "source": [
    "10. Multiply all elements by 3 and print new array"
   ]
  },
  {
   "cell_type": "code",
   "execution_count": 13,
   "id": "38055b91",
   "metadata": {},
   "outputs": [
    {
     "name": "stdout",
     "output_type": "stream",
     "text": [
      "[3 6 9]\n"
     ]
    }
   ],
   "source": [
    "mu = np.array([1,2,3])\n",
    "three = mu * 3\n",
    "print(three)"
   ]
  },
  {
   "cell_type": "markdown",
   "id": "42ce6e03",
   "metadata": {},
   "source": [
    "11. Create a 1D array from 0–15 and reshape it into 4x4"
   ]
  },
  {
   "cell_type": "code",
   "execution_count": 25,
   "id": "01c0bfd8",
   "metadata": {},
   "outputs": [
    {
     "name": "stdout",
     "output_type": "stream",
     "text": [
      "[[ 0  1  2  3]\n",
      " [ 4  5  6  7]\n",
      " [ 8  9 10 11]\n",
      " [12 13 14 15]]\n"
     ]
    }
   ],
   "source": [
    "oned = np.arange(16)\n",
    "oned = (oned.reshape(4,4))\n",
    "print(oned)"
   ]
  },
  {
   "cell_type": "markdown",
   "id": "b201dce6",
   "metadata": {},
   "source": [
    "12. Extract the 2nd row"
   ]
  },
  {
   "cell_type": "code",
   "execution_count": 27,
   "id": "30bb80c2",
   "metadata": {},
   "outputs": [
    {
     "name": "stdout",
     "output_type": "stream",
     "text": [
      "[[4 5 6 7]]\n"
     ]
    }
   ],
   "source": [
    "second_row = oned[1:2]\n",
    "print(second_row)"
   ]
  },
  {
   "cell_type": "markdown",
   "id": "a3dd65a5",
   "metadata": {},
   "source": [
    "13. Extract the last column"
   ]
  },
  {
   "cell_type": "code",
   "execution_count": 30,
   "id": "8e509859",
   "metadata": {},
   "outputs": [
    {
     "name": "stdout",
     "output_type": "stream",
     "text": [
      "[[ 3]\n",
      " [ 7]\n",
      " [11]\n",
      " [15]]\n"
     ]
    }
   ],
   "source": [
    "last_col = oned[:,3:]\n",
    "print(last_col)"
   ]
  },
  {
   "cell_type": "markdown",
   "id": "a76f5cd7",
   "metadata": {},
   "source": [
    "14. Slice the middle 2x2 block"
   ]
  },
  {
   "cell_type": "code",
   "execution_count": 32,
   "id": "5bbbdc5e",
   "metadata": {},
   "outputs": [
    {
     "name": "stdout",
     "output_type": "stream",
     "text": [
      "[[ 5  6]\n",
      " [ 9 10]]\n"
     ]
    }
   ],
   "source": [
    "middle = oned[1:3,1:3]\n",
    "print(middle)"
   ]
  },
  {
   "cell_type": "markdown",
   "id": "c646b67e",
   "metadata": {},
   "source": [
    "\n",
    "15. Filter all values greater than 7"
   ]
  },
  {
   "cell_type": "code",
   "execution_count": 33,
   "id": "d35971b9",
   "metadata": {},
   "outputs": [
    {
     "name": "stdout",
     "output_type": "stream",
     "text": [
      "[ 8  9 10 11 12 13 14 15]\n"
     ]
    }
   ],
   "source": [
    "greater_than_7 = oned[oned>7]\n",
    "print(greater_than_7)"
   ]
  },
  {
   "cell_type": "markdown",
   "id": "c1ac555f",
   "metadata": {},
   "source": [
    "\n",
    "16. Set all values > 10 to 10"
   ]
  },
  {
   "cell_type": "code",
   "execution_count": 37,
   "id": "6405dbbc",
   "metadata": {},
   "outputs": [
    {
     "name": "stdout",
     "output_type": "stream",
     "text": [
      "[[ 0  1  2  3]\n",
      " [ 4  5  6  7]\n",
      " [ 8  9 10 10]\n",
      " [10 10 10 10]]\n"
     ]
    }
   ],
   "source": [
    "oned[oned>10] = 10\n",
    "print(oned)\n"
   ]
  },
  {
   "cell_type": "markdown",
   "id": "60281694",
   "metadata": {},
   "source": [
    "17. Use boolean mask to set even numbers to 0"
   ]
  },
  {
   "cell_type": "code",
   "execution_count": 42,
   "id": "1be611a9",
   "metadata": {},
   "outputs": [
    {
     "name": "stdout",
     "output_type": "stream",
     "text": [
      "[[0 1 0 3]\n",
      " [0 5 0 7]\n",
      " [0 9 0 0]\n",
      " [0 0 0 0]]\n"
     ]
    }
   ],
   "source": [
    "oned[oned % 2 == 0] = 0\n",
    "print(oned)"
   ]
  },
  {
   "cell_type": "markdown",
   "id": "671289f2",
   "metadata": {},
   "source": [
    "18. Fancy index: select elements at indices [1, 3, 5, 7]"
   ]
  },
  {
   "cell_type": "code",
   "execution_count": 56,
   "id": "3bd5b9f7",
   "metadata": {},
   "outputs": [
    {
     "name": "stdout",
     "output_type": "stream",
     "text": [
      "[20  4  0 14]\n"
     ]
    }
   ],
   "source": [
    "harsh = np.array([10,20,1,4,6,0,5,8+6,0,0])\n",
    "ind = harsh[[1,3,5,7]]\n",
    "print(ind)"
   ]
  },
  {
   "cell_type": "markdown",
   "id": "fdc235cc",
   "metadata": {},
   "source": [
    "19. Create a 3x3 array and add 5 to every element"
   ]
  },
  {
   "cell_type": "code",
   "execution_count": 58,
   "id": "1dd2eaf8",
   "metadata": {},
   "outputs": [
    {
     "name": "stdout",
     "output_type": "stream",
     "text": [
      "[[74 74 74]\n",
      " [74 74 74]\n",
      " [74 74 74]]\n"
     ]
    }
   ],
   "source": [
    "elem = np.full((3,3), 69)\n",
    "print(elem + 5)"
   ]
  },
  {
   "cell_type": "code",
   "execution_count": 67,
   "id": "263102dd",
   "metadata": {},
   "outputs": [
    {
     "name": "stdout",
     "output_type": "stream",
     "text": [
      "[ 0.62166987  2.17584455 -0.77708734 -0.31083494  0.         -0.93250481\n",
      " -0.15541747  1.24333974 -0.93250481 -0.93250481]\n",
      "-2.2204460492503132e-17\n",
      "1.0\n"
     ]
    }
   ],
   "source": [
    "norm = (harsh-harsh.mean())/harsh.std()\n",
    "print(norm)\n",
    "print(norm.mean())\n",
    "print(norm.std())"
   ]
  },
  {
   "cell_type": "markdown",
   "id": "0663e7ce",
   "metadata": {},
   "source": [
    "21. Create a 5x5 array of random integers (0–100)"
   ]
  },
  {
   "cell_type": "code",
   "execution_count": 75,
   "id": "e8193390",
   "metadata": {},
   "outputs": [
    {
     "name": "stdout",
     "output_type": "stream",
     "text": [
      "[[91 74 64 92 35]\n",
      " [89 89 67 18 86]\n",
      " [ 9 67 91 72 50]\n",
      " [40 60 91 40  5]\n",
      " [28 28 10 57 96]]\n"
     ]
    }
   ],
   "source": [
    "myarr = np.random.randint(0,100, 25)\n",
    "myarr = (myarr.reshape(5,5))\n",
    "print(myarr)"
   ]
  },
  {
   "cell_type": "markdown",
   "id": "e4c8340a",
   "metadata": {},
   "source": [
    "22. Find the row-wise and column-wise mean"
   ]
  },
  {
   "cell_type": "code",
   "execution_count": null,
   "id": "ea724058",
   "metadata": {},
   "outputs": [
    {
     "name": "stdout",
     "output_type": "stream",
     "text": [
      "[71.2 69.8 57.8 47.2 43.8]\n",
      "[51.4 63.6 64.6 55.8 54.4]\n"
     ]
    }
   ],
   "source": [
    "row_mean = myarr.mean(axis=1) #if you want to iterrate means use axis\n",
    "print(row_mean)\n",
    "col = myarr.mean(axis=0)\n",
    "print(col)"
   ]
  },
  {
   "cell_type": "markdown",
   "id": "36ce1d56",
   "metadata": {},
   "source": [
    "23. Replace values < 50 with 0"
   ]
  },
  {
   "cell_type": "code",
   "execution_count": 88,
   "id": "2641ef19",
   "metadata": {},
   "outputs": [
    {
     "name": "stdout",
     "output_type": "stream",
     "text": [
      "[[91 74 64 92  0]\n",
      " [89 89 67  0 86]\n",
      " [ 0 67 91 72 50]\n",
      " [ 0 60 91  0  0]\n",
      " [ 0  0  0 57 96]]\n"
     ]
    }
   ],
   "source": [
    "\n",
    "myarr[myarr < 50] = 0\n",
    "print(myarr)"
   ]
  },
  {
   "cell_type": "markdown",
   "id": "2aa35556",
   "metadata": {},
   "source": [
    "24. Flatten it, then reshape back to 5x5"
   ]
  },
  {
   "cell_type": "code",
   "execution_count": 92,
   "id": "2a4570ac",
   "metadata": {},
   "outputs": [
    {
     "name": "stdout",
     "output_type": "stream",
     "text": [
      "[91 74 64 92  0 89 89 67  0 86  0 67 91 72 50  0 60 91  0  0  0  0  0 57\n",
      " 96]\n",
      "[[91 74 64 92  0]\n",
      " [89 89 67  0 86]\n",
      " [ 0 67 91 72 50]\n",
      " [ 0 60 91  0  0]\n",
      " [ 0  0  0 57 96]]\n"
     ]
    }
   ],
   "source": [
    "print(myarr.flatten())\n",
    "print(myarr.reshape(5,5))\n"
   ]
  },
  {
   "cell_type": "markdown",
   "id": "2d8463cb",
   "metadata": {},
   "source": [
    "25. Generate 1D array of 100 random numbers and find:<br>\n",
    "\n",
    "Mean\n",
    "\n",
    "Standard deviation\n",
    "\n",
    "Count how many are > mean\n",
    "\n"
   ]
  },
  {
   "cell_type": "code",
   "execution_count": 102,
   "id": "f922a35f",
   "metadata": {},
   "outputs": [
    {
     "name": "stdout",
     "output_type": "stream",
     "text": [
      "47.25\n",
      "33.73407031474263\n",
      "10\n"
     ]
    }
   ],
   "source": [
    "arr100 = np.random.randint(101,size=20)\n",
    "print(arr100.mean())\n",
    "print(arr100.std())\n",
    "arr100[arr100>arr100.mean()] = 1\n",
    "print(np.count_nonzero(arr100==1))"
   ]
  }
 ],
 "metadata": {
  "kernelspec": {
   "display_name": "venv",
   "language": "python",
   "name": "python3"
  },
  "language_info": {
   "codemirror_mode": {
    "name": "ipython",
    "version": 3
   },
   "file_extension": ".py",
   "mimetype": "text/x-python",
   "name": "python",
   "nbconvert_exporter": "python",
   "pygments_lexer": "ipython3",
   "version": "3.13.4"
  }
 },
 "nbformat": 4,
 "nbformat_minor": 5
}
