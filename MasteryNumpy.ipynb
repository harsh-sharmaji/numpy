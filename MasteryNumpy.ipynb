{
 "cells": [
  {
   "cell_type": "markdown",
   "id": "e6d397e1",
   "metadata": {},
   "source": [
    "### Numpy Mastery"
   ]
  },
  {
   "cell_type": "code",
   "execution_count": 2,
   "id": "f55bf5ee",
   "metadata": {},
   "outputs": [],
   "source": [
    "import numpy as np"
   ]
  },
  {
   "cell_type": "markdown",
   "id": "b4a23b6f",
   "metadata": {},
   "source": [
    "### 1. Array Creation"
   ]
  },
  {
   "cell_type": "markdown",
   "id": "288dd404",
   "metadata": {},
   "source": [
    "##### all the important ways to create an array 👇"
   ]
  },
  {
   "cell_type": "code",
   "execution_count": null,
   "id": "5549b06c",
   "metadata": {},
   "outputs": [],
   "source": [
    "a = np.array([1,2,3,4,5,6])\n",
    "b = np.arange(1,10)\n",
    "c = np.linspace(1,50,20) #1 se 50 ke bich mai 20 element\n",
    "d = np.zeros((3,4))\n",
    "e = np.ones((1,2))\n",
    "f = np.full((3,2),8)"
   ]
  },
  {
   "cell_type": "markdown",
   "id": "1d8da10f",
   "metadata": {},
   "source": [
    "#### 2. Shape, Reshape, Flatten"
   ]
  },
  {
   "cell_type": "code",
   "execution_count": 15,
   "id": "4e35d9d9",
   "metadata": {},
   "outputs": [
    {
     "data": {
      "text/plain": [
       "(12,)"
      ]
     },
     "execution_count": 15,
     "metadata": {},
     "output_type": "execute_result"
    }
   ],
   "source": [
    "arr = np.arange(12)\n",
    "arr.shape"
   ]
  },
  {
   "cell_type": "code",
   "execution_count": 20,
   "id": "0cce2ad6",
   "metadata": {},
   "outputs": [
    {
     "data": {
      "text/plain": [
       "array([[ 0,  1,  2,  3],\n",
       "       [ 4,  5,  6,  7],\n",
       "       [ 8,  9, 10, 11]])"
      ]
     },
     "execution_count": 20,
     "metadata": {},
     "output_type": "execute_result"
    }
   ],
   "source": [
    "arr = arr.reshape(3,4)\n",
    "arr"
   ]
  },
  {
   "cell_type": "code",
   "execution_count": 23,
   "id": "1c15fe54",
   "metadata": {},
   "outputs": [
    {
     "data": {
      "text/plain": [
       "array([ 0,  1,  2,  3,  4,  5,  6,  7,  8,  9, 10, 11])"
      ]
     },
     "execution_count": 23,
     "metadata": {},
     "output_type": "execute_result"
    }
   ],
   "source": [
    "arr.flatten()"
   ]
  },
  {
   "cell_type": "markdown",
   "id": "53ff519a",
   "metadata": {},
   "source": [
    "#### 3. Maths Ops"
   ]
  },
  {
   "cell_type": "code",
   "execution_count": 27,
   "id": "d73f69ef",
   "metadata": {},
   "outputs": [
    {
     "name": "stdout",
     "output_type": "stream",
     "text": [
      "[5 7 9]\n",
      "[ 4 10 18]\n",
      "[2.         2.23606798 2.44948974]\n",
      "5.0\n"
     ]
    }
   ],
   "source": [
    "x = np.array([1, 2, 3])\n",
    "y = np.array([4, 5, 6])\n",
    "print(x+y)\n",
    "print(x*y)\n",
    "print(np.sqrt(y))\n",
    "print(np.mean(y))"
   ]
  },
  {
   "cell_type": "markdown",
   "id": "9a4e1547",
   "metadata": {},
   "source": [
    "#### 4. Indexing & Slicing"
   ]
  },
  {
   "cell_type": "code",
   "execution_count": 34,
   "id": "a1e0f2e7",
   "metadata": {},
   "outputs": [
    {
     "name": "stdout",
     "output_type": "stream",
     "text": [
      "0\n",
      "[2 3 4]\n",
      "[9 8 7 6 5 4 3 2 1 0]\n"
     ]
    }
   ],
   "source": [
    "i = np.arange(10)\n",
    "print(i[0])\n",
    "print(i[2:5])\n",
    "print(i[::-1])"
   ]
  },
  {
   "cell_type": "code",
   "execution_count": 41,
   "id": "1688cd55",
   "metadata": {},
   "outputs": [
    {
     "name": "stdout",
     "output_type": "stream",
     "text": [
      "[[1 2]\n",
      " [3 4]]\n",
      "2\n",
      "[[2]\n",
      " [4]]\n"
     ]
    }
   ],
   "source": [
    "n = np.array([[1, 2], [3, 4]])\n",
    "print(n)\n",
    "print(n[0,1])\n",
    "print(n[:,1:])"
   ]
  },
  {
   "cell_type": "markdown",
   "id": "91f90e29",
   "metadata": {},
   "source": [
    "#### 5. Boolean & Fancy Indexing"
   ]
  },
  {
   "cell_type": "code",
   "execution_count": 47,
   "id": "4f4995ab",
   "metadata": {},
   "outputs": [
    {
     "name": "stdout",
     "output_type": "stream",
     "text": [
      "[ 6  8 10]\n",
      "[ 1  6 10]\n"
     ]
    }
   ],
   "source": [
    "ar = np.array([1, 4, 6, 8, 10])\n",
    "print(ar[ar>5])\n",
    "print(ar[[0,2,4]])"
   ]
  },
  {
   "cell_type": "markdown",
   "id": "37f8fe8e",
   "metadata": {},
   "source": [
    "#### 6. Broadcasting"
   ]
  },
  {
   "cell_type": "code",
   "execution_count": 48,
   "id": "0b4a5c46",
   "metadata": {},
   "outputs": [
    {
     "name": "stdout",
     "output_type": "stream",
     "text": [
      "[[11 22 33]\n",
      " [14 25 36]]\n",
      "[[ 6  7  8]\n",
      " [ 9 10 11]]\n"
     ]
    }
   ],
   "source": [
    "a = np.array([[1, 2, 3], [4, 5, 6]])\n",
    "b = np.array([10, 20, 30])\n",
    "print(a + b)  # row-wise\n",
    "print(a + 5)  # scalar #streches\n"
   ]
  },
  {
   "cell_type": "markdown",
   "id": "35cccfd9",
   "metadata": {},
   "source": [
    "#### 7. Random"
   ]
  },
  {
   "cell_type": "code",
   "execution_count": 51,
   "id": "95ca49a6",
   "metadata": {},
   "outputs": [
    {
     "data": {
      "text/plain": [
       "array([0.4312057 , 0.98579455, 0.85762548, 0.60776267, 0.23877753,\n",
       "       0.93560987, 0.51197144, 0.76164972, 0.95975878, 0.48993465,\n",
       "       0.64985575, 0.16120953, 0.81185918, 0.42924254, 0.41491811,\n",
       "       0.64791507, 0.502337  , 0.8792618 , 0.40371655, 0.05593663,\n",
       "       0.21931101, 0.24262105, 0.16835608, 0.06075505, 0.40975143,\n",
       "       0.93624374, 0.75674744, 0.39565373, 0.96098364, 0.30726987,\n",
       "       0.75751522, 0.81683031, 0.93716578, 0.18669206, 0.61116034,\n",
       "       0.19822691, 0.40738323, 0.85085512, 0.61243048, 0.06766786,\n",
       "       0.02579008, 0.734912  , 0.83178183, 0.91430764, 0.92502193,\n",
       "       0.33038545, 0.61664549, 0.73133931, 0.53616363, 0.69938368])"
      ]
     },
     "execution_count": 51,
     "metadata": {},
     "output_type": "execute_result"
    }
   ],
   "source": [
    "np.random.rand(4) #0 aur 1 ke bich mai saara counts nikal ke dega\n",
    "np.random.rand(50)"
   ]
  },
  {
   "cell_type": "code",
   "execution_count": 56,
   "id": "29d2e84c",
   "metadata": {},
   "outputs": [
    {
     "data": {
      "text/plain": [
       "array([[-1.05104992, -1.52908447],\n",
       "       [ 0.0473933 ,  1.83478709]])"
      ]
     },
     "execution_count": 56,
     "metadata": {},
     "output_type": "execute_result"
    }
   ],
   "source": [
    "np.random.randn(5)\n",
    "np.random.randn(2,2) #(-2,2) tk ka range hai"
   ]
  },
  {
   "cell_type": "code",
   "execution_count": 62,
   "id": "0f486538",
   "metadata": {},
   "outputs": [
    {
     "name": "stdout",
     "output_type": "stream",
     "text": [
      "[1 4 3 4 3]\n"
     ]
    }
   ],
   "source": [
    "print(np.random.randint(1,5, size=5)) #prints grpm x to y and soze=no of elems"
   ]
  },
  {
   "cell_type": "code",
   "execution_count": 64,
   "id": "bb25d1a8",
   "metadata": {},
   "outputs": [
    {
     "name": "stdout",
     "output_type": "stream",
     "text": [
      "[[32 40 39]\n",
      " [37 53 56]]\n"
     ]
    }
   ],
   "source": [
    "print(np.random.randint(1, 100, (2, 3)))"
   ]
  }
 ],
 "metadata": {
  "kernelspec": {
   "display_name": "venv",
   "language": "python",
   "name": "python3"
  },
  "language_info": {
   "codemirror_mode": {
    "name": "ipython",
    "version": 3
   },
   "file_extension": ".py",
   "mimetype": "text/x-python",
   "name": "python",
   "nbconvert_exporter": "python",
   "pygments_lexer": "ipython3",
   "version": "3.13.4"
  }
 },
 "nbformat": 4,
 "nbformat_minor": 5
}
